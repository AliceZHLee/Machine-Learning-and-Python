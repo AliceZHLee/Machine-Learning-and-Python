{
 "cells": [
  {
   "cell_type": "code",
   "execution_count": 1,
   "metadata": {},
   "outputs": [],
   "source": [
    "# import all library required\n",
    "import pandas as pd\n",
    "import numpy as np\n",
    "from numpy import nan\n",
    "import sklearn\n",
    "import matplotlib.pyplot as plt\n",
    "import seaborn as sb\n",
    "from sklearn.neighbors import KNeighborsClassifier\n",
    "from sklearn.metrics import accuracy_score\n",
    "import time\n",
    "from sklearn import datasets\n",
    "from pandas.plotting import scatter_matrix\n",
    "from sklearn.preprocessing import StandardScaler \n",
    "from sklearn.preprocessing import normalize\n",
    "from sklearn import tree\n",
    "from sklearn.linear_model import LogisticRegression"
   ]
  },
  {
   "cell_type": "code",
   "execution_count": 2,
   "metadata": {},
   "outputs": [
    {
     "data": {
      "text/plain": [
       "(17007, 18)"
      ]
     },
     "execution_count": 2,
     "metadata": {},
     "output_type": "execute_result"
    }
   ],
   "source": [
    "df = pd.read_csv('appstore_games.csv')\n",
    "df.head()\n",
    "df.shape"
   ]
  },
  {
   "cell_type": "markdown",
   "metadata": {},
   "source": [
    "# This dataset contain information on 17007 strategy games found on Apple App store on 3rd August 2019.It contains 16 variables, including the average user rating for the game. Our group intend to use the average user rating as a meaure of success and see if we can predict whether a game can be successful based on the other variables using Machine learning."
   ]
  },
  {
   "cell_type": "markdown",
   "metadata": {},
   "source": [
    "# 1. Feature engineering\n",
    "# To make the dataset usable, we decided to do some feature engineering to make some of the feature more useful."
   ]
  },
  {
   "cell_type": "markdown",
   "metadata": {},
   "source": [
    "# 1.1. The in app purchases column shows the prices of available in-app purchases, for ML algorithm to work, we will change the column to 0,1 to indicate if in-app purchases is available. Next we drop the row with Nan value "
   ]
  },
  {
   "cell_type": "code",
   "execution_count": 3,
   "metadata": {},
   "outputs": [
    {
     "data": {
      "text/html": [
       "<div>\n",
       "<style scoped>\n",
       "    .dataframe tbody tr th:only-of-type {\n",
       "        vertical-align: middle;\n",
       "    }\n",
       "\n",
       "    .dataframe tbody tr th {\n",
       "        vertical-align: top;\n",
       "    }\n",
       "\n",
       "    .dataframe thead th {\n",
       "        text-align: right;\n",
       "    }\n",
       "</style>\n",
       "<table border=\"1\" class=\"dataframe\">\n",
       "  <thead>\n",
       "    <tr style=\"text-align: right;\">\n",
       "      <th></th>\n",
       "      <th>URL</th>\n",
       "      <th>ID</th>\n",
       "      <th>Name</th>\n",
       "      <th>Subtitle</th>\n",
       "      <th>Icon URL</th>\n",
       "      <th>Average User Rating</th>\n",
       "      <th>User Rating Count</th>\n",
       "      <th>Price</th>\n",
       "      <th>In-app Purchases</th>\n",
       "      <th>Description</th>\n",
       "      <th>Developer</th>\n",
       "      <th>Age Rating</th>\n",
       "      <th>Languages</th>\n",
       "      <th>Size</th>\n",
       "      <th>Primary Genre</th>\n",
       "      <th>Genres</th>\n",
       "      <th>Original Release Date</th>\n",
       "      <th>Current Version Release Date</th>\n",
       "    </tr>\n",
       "  </thead>\n",
       "  <tbody>\n",
       "    <tr>\n",
       "      <td>5</td>\n",
       "      <td>https://apps.apple.com/us/app/sudoku-classic-n...</td>\n",
       "      <td>286210009</td>\n",
       "      <td>Sudoku - Classic number puzzle</td>\n",
       "      <td>Original brain training</td>\n",
       "      <td>https://is1-ssl.mzstatic.com/image/thumb/Purpl...</td>\n",
       "      <td>3.0</td>\n",
       "      <td>47.0</td>\n",
       "      <td>0.00</td>\n",
       "      <td>1</td>\n",
       "      <td>Sudoku will tease your brain, challenge you or...</td>\n",
       "      <td>OutOfTheBit Ltd</td>\n",
       "      <td>4+</td>\n",
       "      <td>EN</td>\n",
       "      <td>48672768.0</td>\n",
       "      <td>Games</td>\n",
       "      <td>Games, Entertainment, Strategy, Puzzle</td>\n",
       "      <td>30/07/2008</td>\n",
       "      <td>29/04/2019</td>\n",
       "    </tr>\n",
       "    <tr>\n",
       "      <td>19</td>\n",
       "      <td>https://apps.apple.com/us/app/cool-sudoku-jigs...</td>\n",
       "      <td>290614255</td>\n",
       "      <td>Cool Sudoku, Jigsaw, Killer</td>\n",
       "      <td>Sudoku, Jigsaw, Killer, Kakuro</td>\n",
       "      <td>https://is5-ssl.mzstatic.com/image/thumb/Purpl...</td>\n",
       "      <td>3.5</td>\n",
       "      <td>357.0</td>\n",
       "      <td>0.00</td>\n",
       "      <td>1</td>\n",
       "      <td>You can now play Sudoku, Killer Sudoku, Jigsaw...</td>\n",
       "      <td>Splash Software Ltd.</td>\n",
       "      <td>4+</td>\n",
       "      <td>EN</td>\n",
       "      <td>52236288.0</td>\n",
       "      <td>Games</td>\n",
       "      <td>Games, Strategy, Puzzle, Entertainment</td>\n",
       "      <td>24/09/2008</td>\n",
       "      <td>26/04/2019</td>\n",
       "    </tr>\n",
       "    <tr>\n",
       "      <td>27</td>\n",
       "      <td>https://apps.apple.com/us/app/lux-touch-3-worl...</td>\n",
       "      <td>292538570</td>\n",
       "      <td>Lux Touch 3 - World Domination</td>\n",
       "      <td>Game of Global Conquest</td>\n",
       "      <td>https://is4-ssl.mzstatic.com/image/thumb/Purpl...</td>\n",
       "      <td>3.5</td>\n",
       "      <td>72428.0</td>\n",
       "      <td>0.00</td>\n",
       "      <td>0</td>\n",
       "      <td>Lux is a game of strategy and world conquest!\\...</td>\n",
       "      <td>Sillysoft Games</td>\n",
       "      <td>9+</td>\n",
       "      <td>EN</td>\n",
       "      <td>55071744.0</td>\n",
       "      <td>Games</td>\n",
       "      <td>Games, Entertainment, Strategy, Board</td>\n",
       "      <td>7/10/2008</td>\n",
       "      <td>23/01/2019</td>\n",
       "    </tr>\n",
       "    <tr>\n",
       "      <td>33</td>\n",
       "      <td>https://apps.apple.com/us/app/chess-tchess-pro...</td>\n",
       "      <td>295445501</td>\n",
       "      <td>Chess - tChess Pro</td>\n",
       "      <td>For beginners to professionals</td>\n",
       "      <td>https://is1-ssl.mzstatic.com/image/thumb/Purpl...</td>\n",
       "      <td>4.0</td>\n",
       "      <td>3062.0</td>\n",
       "      <td>7.99</td>\n",
       "      <td>0</td>\n",
       "      <td>tChess Pro is the high-quality, critically acc...</td>\n",
       "      <td>Tom Kerrigan</td>\n",
       "      <td>4+</td>\n",
       "      <td>EN, FR, DE, JA, KO, ZH</td>\n",
       "      <td>7517184.0</td>\n",
       "      <td>Games</td>\n",
       "      <td>Games, Board, Entertainment, Strategy</td>\n",
       "      <td>5/11/2008</td>\n",
       "      <td>7/04/2019</td>\n",
       "    </tr>\n",
       "    <tr>\n",
       "      <td>36</td>\n",
       "      <td>https://apps.apple.com/us/app/chess-tchess-lit...</td>\n",
       "      <td>296756437</td>\n",
       "      <td>Chess - tChess Lite</td>\n",
       "      <td>Fun and easy to use</td>\n",
       "      <td>https://is4-ssl.mzstatic.com/image/thumb/Purpl...</td>\n",
       "      <td>3.5</td>\n",
       "      <td>5488.0</td>\n",
       "      <td>0.99</td>\n",
       "      <td>0</td>\n",
       "      <td>tChess Lite is the popular chess game designed...</td>\n",
       "      <td>Tom Kerrigan</td>\n",
       "      <td>4+</td>\n",
       "      <td>EN, FR, DE, JA, KO, ZH</td>\n",
       "      <td>5874688.0</td>\n",
       "      <td>Games</td>\n",
       "      <td>Games, Strategy, Entertainment, Board</td>\n",
       "      <td>15/11/2008</td>\n",
       "      <td>7/04/2019</td>\n",
       "    </tr>\n",
       "  </tbody>\n",
       "</table>\n",
       "</div>"
      ],
      "text/plain": [
       "                                                  URL         ID  \\\n",
       "5   https://apps.apple.com/us/app/sudoku-classic-n...  286210009   \n",
       "19  https://apps.apple.com/us/app/cool-sudoku-jigs...  290614255   \n",
       "27  https://apps.apple.com/us/app/lux-touch-3-worl...  292538570   \n",
       "33  https://apps.apple.com/us/app/chess-tchess-pro...  295445501   \n",
       "36  https://apps.apple.com/us/app/chess-tchess-lit...  296756437   \n",
       "\n",
       "                              Name                        Subtitle  \\\n",
       "5   Sudoku - Classic number puzzle         Original brain training   \n",
       "19     Cool Sudoku, Jigsaw, Killer  Sudoku, Jigsaw, Killer, Kakuro   \n",
       "27  Lux Touch 3 - World Domination         Game of Global Conquest   \n",
       "33              Chess - tChess Pro  For beginners to professionals   \n",
       "36             Chess - tChess Lite             Fun and easy to use   \n",
       "\n",
       "                                             Icon URL  Average User Rating  \\\n",
       "5   https://is1-ssl.mzstatic.com/image/thumb/Purpl...                  3.0   \n",
       "19  https://is5-ssl.mzstatic.com/image/thumb/Purpl...                  3.5   \n",
       "27  https://is4-ssl.mzstatic.com/image/thumb/Purpl...                  3.5   \n",
       "33  https://is1-ssl.mzstatic.com/image/thumb/Purpl...                  4.0   \n",
       "36  https://is4-ssl.mzstatic.com/image/thumb/Purpl...                  3.5   \n",
       "\n",
       "    User Rating Count  Price  In-app Purchases  \\\n",
       "5                47.0   0.00                 1   \n",
       "19              357.0   0.00                 1   \n",
       "27            72428.0   0.00                 0   \n",
       "33             3062.0   7.99                 0   \n",
       "36             5488.0   0.99                 0   \n",
       "\n",
       "                                          Description             Developer  \\\n",
       "5   Sudoku will tease your brain, challenge you or...       OutOfTheBit Ltd   \n",
       "19  You can now play Sudoku, Killer Sudoku, Jigsaw...  Splash Software Ltd.   \n",
       "27  Lux is a game of strategy and world conquest!\\...       Sillysoft Games   \n",
       "33  tChess Pro is the high-quality, critically acc...          Tom Kerrigan   \n",
       "36  tChess Lite is the popular chess game designed...          Tom Kerrigan   \n",
       "\n",
       "   Age Rating               Languages        Size Primary Genre  \\\n",
       "5          4+                      EN  48672768.0         Games   \n",
       "19         4+                      EN  52236288.0         Games   \n",
       "27         9+                      EN  55071744.0         Games   \n",
       "33         4+  EN, FR, DE, JA, KO, ZH   7517184.0         Games   \n",
       "36         4+  EN, FR, DE, JA, KO, ZH   5874688.0         Games   \n",
       "\n",
       "                                    Genres Original Release Date  \\\n",
       "5   Games, Entertainment, Strategy, Puzzle            30/07/2008   \n",
       "19  Games, Strategy, Puzzle, Entertainment            24/09/2008   \n",
       "27   Games, Entertainment, Strategy, Board             7/10/2008   \n",
       "33   Games, Board, Entertainment, Strategy             5/11/2008   \n",
       "36   Games, Strategy, Entertainment, Board            15/11/2008   \n",
       "\n",
       "   Current Version Release Date  \n",
       "5                    29/04/2019  \n",
       "19                   26/04/2019  \n",
       "27                   23/01/2019  \n",
       "33                    7/04/2019  \n",
       "36                    7/04/2019  "
      ]
     },
     "execution_count": 3,
     "metadata": {},
     "output_type": "execute_result"
    }
   ],
   "source": [
    "df.loc[df['In-app Purchases'].notnull() ,'In-app Purchases'] = 1\n",
    "df.loc[df['In-app Purchases'].isnull() ,'In-app Purchases'] = 0\n",
    "df= df.dropna()\n",
    "df.head()"
   ]
  },
  {
   "cell_type": "code",
   "execution_count": 4,
   "metadata": {},
   "outputs": [
    {
     "data": {
      "text/plain": [
       "(2714, 18)"
      ]
     },
     "execution_count": 4,
     "metadata": {},
     "output_type": "execute_result"
    }
   ],
   "source": [
    "df.shape"
   ]
  },
  {
   "cell_type": "code",
   "execution_count": 5,
   "metadata": {},
   "outputs": [],
   "source": [
    "# Reset index as rows were removed\n",
    "df.reset_index(drop = True,inplace = True)"
   ]
  },
  {
   "cell_type": "markdown",
   "metadata": {},
   "source": [
    "# 1.2. The 'Language' column shows the list of language the app is translated to. We will instead do a count of the number of languages."
   ]
  },
  {
   "cell_type": "code",
   "execution_count": 6,
   "metadata": {
    "scrolled": true
   },
   "outputs": [],
   "source": [
    "df['Languages'] = df['Languages'].str.split(',').str.len()"
   ]
  },
  {
   "cell_type": "code",
   "execution_count": 7,
   "metadata": {},
   "outputs": [
    {
     "data": {
      "text/plain": [
       "0       1\n",
       "1       1\n",
       "2       1\n",
       "3       6\n",
       "4       6\n",
       "       ..\n",
       "2709    1\n",
       "2710    2\n",
       "2711    1\n",
       "2712    1\n",
       "2713    1\n",
       "Name: Languages, Length: 2714, dtype: int64"
      ]
     },
     "execution_count": 7,
     "metadata": {},
     "output_type": "execute_result"
    }
   ],
   "source": [
    "df['Languages'].apply(lambda x: int(x))"
   ]
  },
  {
   "cell_type": "markdown",
   "metadata": {},
   "source": [
    "# 1.3. We also think that we can derived the number of days since this app is released in store from the 'Original Release Date' feature, which we believe is a more meaningful feature."
   ]
  },
  {
   "cell_type": "code",
   "execution_count": 8,
   "metadata": {},
   "outputs": [
    {
     "data": {
      "text/plain": [
       "datetime.datetime(2008, 9, 24, 0, 0)"
      ]
     },
     "execution_count": 8,
     "metadata": {},
     "output_type": "execute_result"
    }
   ],
   "source": [
    "from datetime import datetime\n",
    "datetime.strptime(df.loc[1,'Original Release Date'],'%d/%m/%Y')"
   ]
  },
  {
   "cell_type": "code",
   "execution_count": 9,
   "metadata": {},
   "outputs": [
    {
     "data": {
      "text/plain": [
       "0    4021\n",
       "1    3965\n",
       "2    3952\n",
       "3    3923\n",
       "4    3913\n",
       "Name: Num_of_days, dtype: int64"
      ]
     },
     "execution_count": 9,
     "metadata": {},
     "output_type": "execute_result"
    }
   ],
   "source": [
    "Num_of_days =[]\n",
    "Data_collection_date = datetime.strptime( '03/08/2019', '%d/%m/%Y')\n",
    "for d in df['Original Release Date']:\n",
    "    x = datetime.strptime(d,'%d/%m/%Y')\n",
    "    days = (Data_collection_date -x)\n",
    "    Num_of_days.append(days.days)\n",
    "    \n",
    "df['Num_of_days'] = Num_of_days\n",
    "df['Num_of_days'].head()\n",
    "    "
   ]
  },
  {
   "cell_type": "markdown",
   "metadata": {},
   "source": [
    "# 1.4. Encode \"Age Rating\""
   ]
  },
  {
   "cell_type": "code",
   "execution_count": 10,
   "metadata": {},
   "outputs": [],
   "source": [
    "df.loc[df['Age Rating'] == \"4+\",'Age Rating'] = 1\n",
    "df.loc[df['Age Rating'] == \"9+\",'Age Rating'] = 2\n",
    "df.loc[df['Age Rating'] == \"12+\",'Age Rating'] = 3\n",
    "df.loc[df['Age Rating'] == \"17+\",'Age Rating'] = 4"
   ]
  },
  {
   "cell_type": "markdown",
   "metadata": {},
   "source": [
    "# 1.5. Encode \"Average User Rating\" .2.5 and below will be 1, 3.0 to 4.0 will be 2 and 4.5 & 5.0 will be 3"
   ]
  },
  {
   "cell_type": "code",
   "execution_count": 11,
   "metadata": {},
   "outputs": [],
   "source": [
    "df.loc[df['Average User Rating'] == 0.0,'Average User Rating'] = 1\n",
    "df.loc[df['Average User Rating'] == 0.5,'Average User Rating'] = 1\n",
    "df.loc[df['Average User Rating'] == 1.0,'Average User Rating'] = 1\n",
    "df.loc[df['Average User Rating'] == 1.5,'Average User Rating'] = 1\n",
    "df.loc[df['Average User Rating'] == 2.0,'Average User Rating'] = 1\n",
    "df.loc[df['Average User Rating'] == 2.5,'Average User Rating'] = 1\n",
    "df.loc[df['Average User Rating'] == 3.0,'Average User Rating'] = 2\n",
    "df.loc[df['Average User Rating'] == 3.5,'Average User Rating'] = 2\n",
    "df.loc[df['Average User Rating'] == 4.0,'Average User Rating'] = 2\n",
    "df.loc[df['Average User Rating'] == 4.5,'Average User Rating'] = 3\n",
    "df.loc[df['Average User Rating'] == 5.0,'Average User Rating'] = 3"
   ]
  },
  {
   "cell_type": "code",
   "execution_count": 12,
   "metadata": {},
   "outputs": [
    {
     "data": {
      "text/plain": [
       "array([2., 1., 3.])"
      ]
     },
     "execution_count": 12,
     "metadata": {},
     "output_type": "execute_result"
    }
   ],
   "source": [
    "df['Average User Rating'].unique()"
   ]
  },
  {
   "cell_type": "code",
   "execution_count": 13,
   "metadata": {},
   "outputs": [
    {
     "data": {
      "text/html": [
       "<div>\n",
       "<style scoped>\n",
       "    .dataframe tbody tr th:only-of-type {\n",
       "        vertical-align: middle;\n",
       "    }\n",
       "\n",
       "    .dataframe tbody tr th {\n",
       "        vertical-align: top;\n",
       "    }\n",
       "\n",
       "    .dataframe thead th {\n",
       "        text-align: right;\n",
       "    }\n",
       "</style>\n",
       "<table border=\"1\" class=\"dataframe\">\n",
       "  <thead>\n",
       "    <tr style=\"text-align: right;\">\n",
       "      <th></th>\n",
       "      <th>URL</th>\n",
       "      <th>ID</th>\n",
       "      <th>Name</th>\n",
       "      <th>Subtitle</th>\n",
       "      <th>Icon URL</th>\n",
       "      <th>Average User Rating</th>\n",
       "      <th>User Rating Count</th>\n",
       "      <th>Price</th>\n",
       "      <th>In-app Purchases</th>\n",
       "      <th>Description</th>\n",
       "      <th>Developer</th>\n",
       "      <th>Age Rating</th>\n",
       "      <th>Languages</th>\n",
       "      <th>Size</th>\n",
       "      <th>Primary Genre</th>\n",
       "      <th>Genres</th>\n",
       "      <th>Original Release Date</th>\n",
       "      <th>Current Version Release Date</th>\n",
       "      <th>Num_of_days</th>\n",
       "    </tr>\n",
       "  </thead>\n",
       "  <tbody>\n",
       "    <tr>\n",
       "      <td>0</td>\n",
       "      <td>https://apps.apple.com/us/app/sudoku-classic-n...</td>\n",
       "      <td>286210009</td>\n",
       "      <td>Sudoku - Classic number puzzle</td>\n",
       "      <td>Original brain training</td>\n",
       "      <td>https://is1-ssl.mzstatic.com/image/thumb/Purpl...</td>\n",
       "      <td>2.0</td>\n",
       "      <td>47.0</td>\n",
       "      <td>0.00</td>\n",
       "      <td>1</td>\n",
       "      <td>Sudoku will tease your brain, challenge you or...</td>\n",
       "      <td>OutOfTheBit Ltd</td>\n",
       "      <td>1</td>\n",
       "      <td>1</td>\n",
       "      <td>48672768.0</td>\n",
       "      <td>Games</td>\n",
       "      <td>Games, Entertainment, Strategy, Puzzle</td>\n",
       "      <td>30/07/2008</td>\n",
       "      <td>29/04/2019</td>\n",
       "      <td>4021</td>\n",
       "    </tr>\n",
       "    <tr>\n",
       "      <td>1</td>\n",
       "      <td>https://apps.apple.com/us/app/cool-sudoku-jigs...</td>\n",
       "      <td>290614255</td>\n",
       "      <td>Cool Sudoku, Jigsaw, Killer</td>\n",
       "      <td>Sudoku, Jigsaw, Killer, Kakuro</td>\n",
       "      <td>https://is5-ssl.mzstatic.com/image/thumb/Purpl...</td>\n",
       "      <td>2.0</td>\n",
       "      <td>357.0</td>\n",
       "      <td>0.00</td>\n",
       "      <td>1</td>\n",
       "      <td>You can now play Sudoku, Killer Sudoku, Jigsaw...</td>\n",
       "      <td>Splash Software Ltd.</td>\n",
       "      <td>1</td>\n",
       "      <td>1</td>\n",
       "      <td>52236288.0</td>\n",
       "      <td>Games</td>\n",
       "      <td>Games, Strategy, Puzzle, Entertainment</td>\n",
       "      <td>24/09/2008</td>\n",
       "      <td>26/04/2019</td>\n",
       "      <td>3965</td>\n",
       "    </tr>\n",
       "    <tr>\n",
       "      <td>2</td>\n",
       "      <td>https://apps.apple.com/us/app/lux-touch-3-worl...</td>\n",
       "      <td>292538570</td>\n",
       "      <td>Lux Touch 3 - World Domination</td>\n",
       "      <td>Game of Global Conquest</td>\n",
       "      <td>https://is4-ssl.mzstatic.com/image/thumb/Purpl...</td>\n",
       "      <td>2.0</td>\n",
       "      <td>72428.0</td>\n",
       "      <td>0.00</td>\n",
       "      <td>0</td>\n",
       "      <td>Lux is a game of strategy and world conquest!\\...</td>\n",
       "      <td>Sillysoft Games</td>\n",
       "      <td>2</td>\n",
       "      <td>1</td>\n",
       "      <td>55071744.0</td>\n",
       "      <td>Games</td>\n",
       "      <td>Games, Entertainment, Strategy, Board</td>\n",
       "      <td>7/10/2008</td>\n",
       "      <td>23/01/2019</td>\n",
       "      <td>3952</td>\n",
       "    </tr>\n",
       "    <tr>\n",
       "      <td>3</td>\n",
       "      <td>https://apps.apple.com/us/app/chess-tchess-pro...</td>\n",
       "      <td>295445501</td>\n",
       "      <td>Chess - tChess Pro</td>\n",
       "      <td>For beginners to professionals</td>\n",
       "      <td>https://is1-ssl.mzstatic.com/image/thumb/Purpl...</td>\n",
       "      <td>2.0</td>\n",
       "      <td>3062.0</td>\n",
       "      <td>7.99</td>\n",
       "      <td>0</td>\n",
       "      <td>tChess Pro is the high-quality, critically acc...</td>\n",
       "      <td>Tom Kerrigan</td>\n",
       "      <td>1</td>\n",
       "      <td>6</td>\n",
       "      <td>7517184.0</td>\n",
       "      <td>Games</td>\n",
       "      <td>Games, Board, Entertainment, Strategy</td>\n",
       "      <td>5/11/2008</td>\n",
       "      <td>7/04/2019</td>\n",
       "      <td>3923</td>\n",
       "    </tr>\n",
       "    <tr>\n",
       "      <td>4</td>\n",
       "      <td>https://apps.apple.com/us/app/chess-tchess-lit...</td>\n",
       "      <td>296756437</td>\n",
       "      <td>Chess - tChess Lite</td>\n",
       "      <td>Fun and easy to use</td>\n",
       "      <td>https://is4-ssl.mzstatic.com/image/thumb/Purpl...</td>\n",
       "      <td>2.0</td>\n",
       "      <td>5488.0</td>\n",
       "      <td>0.99</td>\n",
       "      <td>0</td>\n",
       "      <td>tChess Lite is the popular chess game designed...</td>\n",
       "      <td>Tom Kerrigan</td>\n",
       "      <td>1</td>\n",
       "      <td>6</td>\n",
       "      <td>5874688.0</td>\n",
       "      <td>Games</td>\n",
       "      <td>Games, Strategy, Entertainment, Board</td>\n",
       "      <td>15/11/2008</td>\n",
       "      <td>7/04/2019</td>\n",
       "      <td>3913</td>\n",
       "    </tr>\n",
       "  </tbody>\n",
       "</table>\n",
       "</div>"
      ],
      "text/plain": [
       "                                                 URL         ID  \\\n",
       "0  https://apps.apple.com/us/app/sudoku-classic-n...  286210009   \n",
       "1  https://apps.apple.com/us/app/cool-sudoku-jigs...  290614255   \n",
       "2  https://apps.apple.com/us/app/lux-touch-3-worl...  292538570   \n",
       "3  https://apps.apple.com/us/app/chess-tchess-pro...  295445501   \n",
       "4  https://apps.apple.com/us/app/chess-tchess-lit...  296756437   \n",
       "\n",
       "                             Name                        Subtitle  \\\n",
       "0  Sudoku - Classic number puzzle         Original brain training   \n",
       "1     Cool Sudoku, Jigsaw, Killer  Sudoku, Jigsaw, Killer, Kakuro   \n",
       "2  Lux Touch 3 - World Domination         Game of Global Conquest   \n",
       "3              Chess - tChess Pro  For beginners to professionals   \n",
       "4             Chess - tChess Lite             Fun and easy to use   \n",
       "\n",
       "                                            Icon URL  Average User Rating  \\\n",
       "0  https://is1-ssl.mzstatic.com/image/thumb/Purpl...                  2.0   \n",
       "1  https://is5-ssl.mzstatic.com/image/thumb/Purpl...                  2.0   \n",
       "2  https://is4-ssl.mzstatic.com/image/thumb/Purpl...                  2.0   \n",
       "3  https://is1-ssl.mzstatic.com/image/thumb/Purpl...                  2.0   \n",
       "4  https://is4-ssl.mzstatic.com/image/thumb/Purpl...                  2.0   \n",
       "\n",
       "   User Rating Count  Price  In-app Purchases  \\\n",
       "0               47.0   0.00                 1   \n",
       "1              357.0   0.00                 1   \n",
       "2            72428.0   0.00                 0   \n",
       "3             3062.0   7.99                 0   \n",
       "4             5488.0   0.99                 0   \n",
       "\n",
       "                                         Description             Developer  \\\n",
       "0  Sudoku will tease your brain, challenge you or...       OutOfTheBit Ltd   \n",
       "1  You can now play Sudoku, Killer Sudoku, Jigsaw...  Splash Software Ltd.   \n",
       "2  Lux is a game of strategy and world conquest!\\...       Sillysoft Games   \n",
       "3  tChess Pro is the high-quality, critically acc...          Tom Kerrigan   \n",
       "4  tChess Lite is the popular chess game designed...          Tom Kerrigan   \n",
       "\n",
       "   Age Rating  Languages        Size Primary Genre  \\\n",
       "0           1          1  48672768.0         Games   \n",
       "1           1          1  52236288.0         Games   \n",
       "2           2          1  55071744.0         Games   \n",
       "3           1          6   7517184.0         Games   \n",
       "4           1          6   5874688.0         Games   \n",
       "\n",
       "                                   Genres Original Release Date  \\\n",
       "0  Games, Entertainment, Strategy, Puzzle            30/07/2008   \n",
       "1  Games, Strategy, Puzzle, Entertainment            24/09/2008   \n",
       "2   Games, Entertainment, Strategy, Board             7/10/2008   \n",
       "3   Games, Board, Entertainment, Strategy             5/11/2008   \n",
       "4   Games, Strategy, Entertainment, Board            15/11/2008   \n",
       "\n",
       "  Current Version Release Date  Num_of_days  \n",
       "0                   29/04/2019         4021  \n",
       "1                   26/04/2019         3965  \n",
       "2                   23/01/2019         3952  \n",
       "3                    7/04/2019         3923  \n",
       "4                    7/04/2019         3913  "
      ]
     },
     "execution_count": 13,
     "metadata": {},
     "output_type": "execute_result"
    }
   ],
   "source": [
    "df.head()"
   ]
  },
  {
   "cell_type": "markdown",
   "metadata": {},
   "source": [
    "# 1.6. We also drop some columns of text that we are not using in our analysis"
   ]
  },
  {
   "cell_type": "code",
   "execution_count": 14,
   "metadata": {},
   "outputs": [
    {
     "data": {
      "text/html": [
       "<div>\n",
       "<style scoped>\n",
       "    .dataframe tbody tr th:only-of-type {\n",
       "        vertical-align: middle;\n",
       "    }\n",
       "\n",
       "    .dataframe tbody tr th {\n",
       "        vertical-align: top;\n",
       "    }\n",
       "\n",
       "    .dataframe thead th {\n",
       "        text-align: right;\n",
       "    }\n",
       "</style>\n",
       "<table border=\"1\" class=\"dataframe\">\n",
       "  <thead>\n",
       "    <tr style=\"text-align: right;\">\n",
       "      <th></th>\n",
       "      <th>Average User Rating</th>\n",
       "      <th>User Rating Count</th>\n",
       "      <th>Price</th>\n",
       "      <th>In-app Purchases</th>\n",
       "      <th>Age Rating</th>\n",
       "      <th>Languages</th>\n",
       "      <th>Size</th>\n",
       "      <th>Num_of_days</th>\n",
       "    </tr>\n",
       "  </thead>\n",
       "  <tbody>\n",
       "    <tr>\n",
       "      <td>0</td>\n",
       "      <td>2.0</td>\n",
       "      <td>47.0</td>\n",
       "      <td>0.00</td>\n",
       "      <td>1</td>\n",
       "      <td>1</td>\n",
       "      <td>1</td>\n",
       "      <td>48672768.0</td>\n",
       "      <td>4021</td>\n",
       "    </tr>\n",
       "    <tr>\n",
       "      <td>1</td>\n",
       "      <td>2.0</td>\n",
       "      <td>357.0</td>\n",
       "      <td>0.00</td>\n",
       "      <td>1</td>\n",
       "      <td>1</td>\n",
       "      <td>1</td>\n",
       "      <td>52236288.0</td>\n",
       "      <td>3965</td>\n",
       "    </tr>\n",
       "    <tr>\n",
       "      <td>2</td>\n",
       "      <td>2.0</td>\n",
       "      <td>72428.0</td>\n",
       "      <td>0.00</td>\n",
       "      <td>0</td>\n",
       "      <td>2</td>\n",
       "      <td>1</td>\n",
       "      <td>55071744.0</td>\n",
       "      <td>3952</td>\n",
       "    </tr>\n",
       "    <tr>\n",
       "      <td>3</td>\n",
       "      <td>2.0</td>\n",
       "      <td>3062.0</td>\n",
       "      <td>7.99</td>\n",
       "      <td>0</td>\n",
       "      <td>1</td>\n",
       "      <td>6</td>\n",
       "      <td>7517184.0</td>\n",
       "      <td>3923</td>\n",
       "    </tr>\n",
       "    <tr>\n",
       "      <td>4</td>\n",
       "      <td>2.0</td>\n",
       "      <td>5488.0</td>\n",
       "      <td>0.99</td>\n",
       "      <td>0</td>\n",
       "      <td>1</td>\n",
       "      <td>6</td>\n",
       "      <td>5874688.0</td>\n",
       "      <td>3913</td>\n",
       "    </tr>\n",
       "    <tr>\n",
       "      <td>...</td>\n",
       "      <td>...</td>\n",
       "      <td>...</td>\n",
       "      <td>...</td>\n",
       "      <td>...</td>\n",
       "      <td>...</td>\n",
       "      <td>...</td>\n",
       "      <td>...</td>\n",
       "      <td>...</td>\n",
       "    </tr>\n",
       "    <tr>\n",
       "      <td>2709</td>\n",
       "      <td>3.0</td>\n",
       "      <td>11.0</td>\n",
       "      <td>0.00</td>\n",
       "      <td>1</td>\n",
       "      <td>2</td>\n",
       "      <td>1</td>\n",
       "      <td>44067840.0</td>\n",
       "      <td>2</td>\n",
       "    </tr>\n",
       "    <tr>\n",
       "      <td>2710</td>\n",
       "      <td>2.0</td>\n",
       "      <td>6.0</td>\n",
       "      <td>0.00</td>\n",
       "      <td>0</td>\n",
       "      <td>3</td>\n",
       "      <td>2</td>\n",
       "      <td>151308288.0</td>\n",
       "      <td>3</td>\n",
       "    </tr>\n",
       "    <tr>\n",
       "      <td>2711</td>\n",
       "      <td>3.0</td>\n",
       "      <td>51.0</td>\n",
       "      <td>0.00</td>\n",
       "      <td>0</td>\n",
       "      <td>2</td>\n",
       "      <td>1</td>\n",
       "      <td>125348864.0</td>\n",
       "      <td>3</td>\n",
       "    </tr>\n",
       "    <tr>\n",
       "      <td>2712</td>\n",
       "      <td>3.0</td>\n",
       "      <td>5.0</td>\n",
       "      <td>0.00</td>\n",
       "      <td>0</td>\n",
       "      <td>1</td>\n",
       "      <td>1</td>\n",
       "      <td>128687104.0</td>\n",
       "      <td>6</td>\n",
       "    </tr>\n",
       "    <tr>\n",
       "      <td>2713</td>\n",
       "      <td>3.0</td>\n",
       "      <td>33.0</td>\n",
       "      <td>0.00</td>\n",
       "      <td>0</td>\n",
       "      <td>1</td>\n",
       "      <td>1</td>\n",
       "      <td>8845312.0</td>\n",
       "      <td>4</td>\n",
       "    </tr>\n",
       "  </tbody>\n",
       "</table>\n",
       "<p>2714 rows × 8 columns</p>\n",
       "</div>"
      ],
      "text/plain": [
       "      Average User Rating  User Rating Count  Price  In-app Purchases  \\\n",
       "0                     2.0               47.0   0.00                 1   \n",
       "1                     2.0              357.0   0.00                 1   \n",
       "2                     2.0            72428.0   0.00                 0   \n",
       "3                     2.0             3062.0   7.99                 0   \n",
       "4                     2.0             5488.0   0.99                 0   \n",
       "...                   ...                ...    ...               ...   \n",
       "2709                  3.0               11.0   0.00                 1   \n",
       "2710                  2.0                6.0   0.00                 0   \n",
       "2711                  3.0               51.0   0.00                 0   \n",
       "2712                  3.0                5.0   0.00                 0   \n",
       "2713                  3.0               33.0   0.00                 0   \n",
       "\n",
       "      Age Rating  Languages         Size  Num_of_days  \n",
       "0              1          1   48672768.0         4021  \n",
       "1              1          1   52236288.0         3965  \n",
       "2              2          1   55071744.0         3952  \n",
       "3              1          6    7517184.0         3923  \n",
       "4              1          6    5874688.0         3913  \n",
       "...          ...        ...          ...          ...  \n",
       "2709           2          1   44067840.0            2  \n",
       "2710           3          2  151308288.0            3  \n",
       "2711           2          1  125348864.0            3  \n",
       "2712           1          1  128687104.0            6  \n",
       "2713           1          1    8845312.0            4  \n",
       "\n",
       "[2714 rows x 8 columns]"
      ]
     },
     "execution_count": 14,
     "metadata": {},
     "output_type": "execute_result"
    }
   ],
   "source": [
    "list_to_drop =['URL','ID','Name','Subtitle','Icon URL','Description','Developer','Primary Genre','Genres','Original Release Date','Current Version Release Date'] \n",
    "df = df.drop(list_to_drop,axis =1)\n",
    "df"
   ]
  },
  {
   "cell_type": "markdown",
   "metadata": {},
   "source": [
    "# 1.7. Looking at the correlation score between features, we can see that there isn't a pair of data with high correlation. Thus we will not drop anymore data."
   ]
  },
  {
   "cell_type": "code",
   "execution_count": 15,
   "metadata": {},
   "outputs": [
    {
     "data": {
      "text/html": [
       "<div>\n",
       "<style scoped>\n",
       "    .dataframe tbody tr th:only-of-type {\n",
       "        vertical-align: middle;\n",
       "    }\n",
       "\n",
       "    .dataframe tbody tr th {\n",
       "        vertical-align: top;\n",
       "    }\n",
       "\n",
       "    .dataframe thead th {\n",
       "        text-align: right;\n",
       "    }\n",
       "</style>\n",
       "<table border=\"1\" class=\"dataframe\">\n",
       "  <thead>\n",
       "    <tr style=\"text-align: right;\">\n",
       "      <th></th>\n",
       "      <th>User Rating Count</th>\n",
       "      <th>Price</th>\n",
       "      <th>In-app Purchases</th>\n",
       "      <th>Age Rating</th>\n",
       "      <th>Languages</th>\n",
       "      <th>Size</th>\n",
       "      <th>Num_of_days</th>\n",
       "    </tr>\n",
       "  </thead>\n",
       "  <tbody>\n",
       "    <tr>\n",
       "      <td>User Rating Count</td>\n",
       "      <td>1.000000</td>\n",
       "      <td>-0.012381</td>\n",
       "      <td>0.049302</td>\n",
       "      <td>0.032601</td>\n",
       "      <td>0.109312</td>\n",
       "      <td>0.038752</td>\n",
       "      <td>0.072137</td>\n",
       "    </tr>\n",
       "    <tr>\n",
       "      <td>Price</td>\n",
       "      <td>-0.012381</td>\n",
       "      <td>1.000000</td>\n",
       "      <td>-0.142877</td>\n",
       "      <td>-0.022743</td>\n",
       "      <td>-0.021021</td>\n",
       "      <td>0.083053</td>\n",
       "      <td>0.089246</td>\n",
       "    </tr>\n",
       "    <tr>\n",
       "      <td>In-app Purchases</td>\n",
       "      <td>0.049302</td>\n",
       "      <td>-0.142877</td>\n",
       "      <td>1.000000</td>\n",
       "      <td>0.094482</td>\n",
       "      <td>0.159922</td>\n",
       "      <td>0.091998</td>\n",
       "      <td>-0.034194</td>\n",
       "    </tr>\n",
       "    <tr>\n",
       "      <td>Age Rating</td>\n",
       "      <td>0.032601</td>\n",
       "      <td>-0.022743</td>\n",
       "      <td>0.094482</td>\n",
       "      <td>1.000000</td>\n",
       "      <td>0.098492</td>\n",
       "      <td>0.264204</td>\n",
       "      <td>-0.137601</td>\n",
       "    </tr>\n",
       "    <tr>\n",
       "      <td>Languages</td>\n",
       "      <td>0.109312</td>\n",
       "      <td>-0.021021</td>\n",
       "      <td>0.159922</td>\n",
       "      <td>0.098492</td>\n",
       "      <td>1.000000</td>\n",
       "      <td>0.082961</td>\n",
       "      <td>0.089909</td>\n",
       "    </tr>\n",
       "    <tr>\n",
       "      <td>Size</td>\n",
       "      <td>0.038752</td>\n",
       "      <td>0.083053</td>\n",
       "      <td>0.091998</td>\n",
       "      <td>0.264204</td>\n",
       "      <td>0.082961</td>\n",
       "      <td>1.000000</td>\n",
       "      <td>-0.167403</td>\n",
       "    </tr>\n",
       "    <tr>\n",
       "      <td>Num_of_days</td>\n",
       "      <td>0.072137</td>\n",
       "      <td>0.089246</td>\n",
       "      <td>-0.034194</td>\n",
       "      <td>-0.137601</td>\n",
       "      <td>0.089909</td>\n",
       "      <td>-0.167403</td>\n",
       "      <td>1.000000</td>\n",
       "    </tr>\n",
       "  </tbody>\n",
       "</table>\n",
       "</div>"
      ],
      "text/plain": [
       "                   User Rating Count     Price  In-app Purchases  Age Rating  \\\n",
       "User Rating Count           1.000000 -0.012381          0.049302    0.032601   \n",
       "Price                      -0.012381  1.000000         -0.142877   -0.022743   \n",
       "In-app Purchases            0.049302 -0.142877          1.000000    0.094482   \n",
       "Age Rating                  0.032601 -0.022743          0.094482    1.000000   \n",
       "Languages                   0.109312 -0.021021          0.159922    0.098492   \n",
       "Size                        0.038752  0.083053          0.091998    0.264204   \n",
       "Num_of_days                 0.072137  0.089246         -0.034194   -0.137601   \n",
       "\n",
       "                   Languages      Size  Num_of_days  \n",
       "User Rating Count   0.109312  0.038752     0.072137  \n",
       "Price              -0.021021  0.083053     0.089246  \n",
       "In-app Purchases    0.159922  0.091998    -0.034194  \n",
       "Age Rating          0.098492  0.264204    -0.137601  \n",
       "Languages           1.000000  0.082961     0.089909  \n",
       "Size                0.082961  1.000000    -0.167403  \n",
       "Num_of_days         0.089909 -0.167403     1.000000  "
      ]
     },
     "execution_count": 15,
     "metadata": {},
     "output_type": "execute_result"
    }
   ],
   "source": [
    "df.drop(['Average User Rating'],axis = 1).corr()"
   ]
  },
  {
   "cell_type": "markdown",
   "metadata": {},
   "source": [
    "# 2. Training classification models"
   ]
  },
  {
   "cell_type": "code",
   "execution_count": 16,
   "metadata": {},
   "outputs": [],
   "source": [
    "from sklearn.model_selection import train_test_split\n",
    "from sklearn.metrics import confusion_matrix\n",
    "\n",
    "X = df.drop(['Average User Rating'],axis =1)\n",
    "y = df['Average User Rating']\n",
    "\n",
    "X_train, X_test, y_train, y_test = train_test_split(X, y, random_state = 42)"
   ]
  },
  {
   "cell_type": "code",
   "execution_count": 17,
   "metadata": {},
   "outputs": [
    {
     "data": {
      "text/plain": [
       "0    2.0\n",
       "1    2.0\n",
       "2    2.0\n",
       "3    2.0\n",
       "4    2.0\n",
       "Name: Average User Rating, dtype: float64"
      ]
     },
     "execution_count": 17,
     "metadata": {},
     "output_type": "execute_result"
    }
   ],
   "source": [
    "df['Average User Rating'].head()"
   ]
  },
  {
   "cell_type": "code",
   "execution_count": 18,
   "metadata": {},
   "outputs": [],
   "source": [
    "from sklearn.model_selection import KFold\n",
    "from sklearn.model_selection import cross_val_score\n",
    "k_fold = KFold(n_splits=10, shuffle=True, random_state=0)"
   ]
  },
  {
   "cell_type": "markdown",
   "metadata": {},
   "source": [
    "# 2.1 KNN model"
   ]
  },
  {
   "cell_type": "markdown",
   "metadata": {},
   "source": [
    "# 2.1.1.Train model with different K values"
   ]
  },
  {
   "cell_type": "code",
   "execution_count": 19,
   "metadata": {},
   "outputs": [],
   "source": [
    "K_values = np.arange(start = 3, stop = 40, step = 4)\n",
    "i = 0\n",
    "# create 2 list to store accuracy\n",
    "acc = np.zeros(K_values.shape[0])\n",
    "cross_val_acc = np.zeros(K_values.shape[0])\n",
    "# create 2 lists to store the model training duration and prediction duration\n",
    "train_duration = np.zeros(K_values.shape[0])\n",
    "predict_duration = np.zeros(K_values.shape[0])\n",
    "# create a list to store all the confusion matrices\n",
    "a =np.matrix('0 0;0 0')\n",
    "Con_Mat_list = [a]*(K_values.shape[0])"
   ]
  },
  {
   "cell_type": "code",
   "execution_count": 20,
   "metadata": {},
   "outputs": [],
   "source": [
    "for n in K_values:\n",
    "    \n",
    "    start_time = time.time()\n",
    "    Kneigh = KNeighborsClassifier(n_neighbors = n).fit(X_train,y_train)\n",
    "    train_duration[i] = time.time() - start_time\n",
    "    start_time = time.time()\n",
    "    y_hat = Kneigh.predict(X_test)\n",
    "    predict_duration[i] = time.time() - start_time\n",
    "    acc[i] = accuracy_score(y_test, y_hat)\n",
    "    score=cross_val_score(Kneigh, X_train, y_train, cv=k_fold, n_jobs=1, scoring='accuracy',error_score=np.nan)\n",
    "    cross_val_acc[i]= round(np.mean(score)*100, 2)\n",
    "    Con_Mat_list[i] = confusion_matrix(y_test,y_hat)\n",
    "    i +=1\n",
    "  "
   ]
  },
  {
   "cell_type": "code",
   "execution_count": 21,
   "metadata": {},
   "outputs": [
    {
     "data": {
      "text/plain": [
       "array([52.78, 56.47, 58.33, 60.2 , 61.43, 61.68, 61.82, 61.87, 62.46,\n",
       "       62.36])"
      ]
     },
     "execution_count": 21,
     "metadata": {},
     "output_type": "execute_result"
    }
   ],
   "source": [
    "cross_val_acc"
   ]
  },
  {
   "cell_type": "code",
   "execution_count": 22,
   "metadata": {},
   "outputs": [
    {
     "data": {
      "text/plain": [
       "array([0.52724595, 0.58468336, 0.60235641, 0.60972018, 0.62150221,\n",
       "       0.60088365, 0.60824742, 0.60972018, 0.60824742, 0.61413844])"
      ]
     },
     "execution_count": 22,
     "metadata": {},
     "output_type": "execute_result"
    }
   ],
   "source": [
    "acc"
   ]
  },
  {
   "cell_type": "markdown",
   "metadata": {},
   "source": [
    "# 2.1.2 Evaluation of the KNN model"
   ]
  },
  {
   "cell_type": "markdown",
   "metadata": {},
   "source": [
    "# Looking at the accuracy score array above, the highest accuracy score is around 62% when K is 19.\n",
    "# After that, increasing the K does not results in improvement in accuracy.\n",
    "# We will examine the performance of model when K is 19 further."
   ]
  },
  {
   "cell_type": "code",
   "execution_count": 23,
   "metadata": {},
   "outputs": [
    {
     "data": {
      "text/plain": [
       "0.001995563507080078"
      ]
     },
     "execution_count": 23,
     "metadata": {},
     "output_type": "execute_result"
    }
   ],
   "source": [
    "train_duration[4] # In seconds"
   ]
  },
  {
   "cell_type": "code",
   "execution_count": 24,
   "metadata": {},
   "outputs": [
    {
     "data": {
      "text/plain": [
       "0.020947933197021484"
      ]
     },
     "execution_count": 24,
     "metadata": {},
     "output_type": "execute_result"
    }
   ],
   "source": [
    "predict_duration[4] # In seconds"
   ]
  },
  {
   "cell_type": "code",
   "execution_count": 25,
   "metadata": {},
   "outputs": [],
   "source": [
    "# Define a function to calculate the accuracy for predicting each class\n",
    "def Analyse_Con_Mat(CM):\n",
    "    Acc_1 = CM.item(0) /(CM.item(0)+ CM.item(1)+CM.item(2))\n",
    "    Acc_2 = CM.item(4) /(CM.item(3)+ CM.item(4)+ CM.item(5))\n",
    "    Acc_3 = CM.item(8) /(CM.item(6)+ CM.item(7)+ CM.item(8))\n",
    "                               \n",
    "    print( \"Acc_1 = {0}, Acc_2 = {1}, Acc_3 = {2}\".format(Acc_1,Acc_2,Acc_3))"
   ]
  },
  {
   "cell_type": "code",
   "execution_count": 26,
   "metadata": {},
   "outputs": [
    {
     "name": "stdout",
     "output_type": "stream",
     "text": [
      "Acc_1 = 0.0, Acc_2 = 0.14601769911504425, Acc_3 = 0.9218009478672986\n"
     ]
    }
   ],
   "source": [
    "Analyse_Con_Mat(Con_Mat_list[4])"
   ]
  },
  {
   "cell_type": "markdown",
   "metadata": {},
   "source": [
    "# 2.2. Decision tree model"
   ]
  },
  {
   "cell_type": "code",
   "execution_count": 27,
   "metadata": {},
   "outputs": [],
   "source": [
    "clf = tree.DecisionTreeClassifier()\n",
    "start_time = time.time()\n",
    "clf.fit(X_train,y_train)\n",
    "train_duration = time.time() - start_time\n",
    "y_pred = clf.predict(X_test)\n",
    "\n",
    "DT_acc = accuracy_score(y_test, y_pred)\n",
    "DT_Con_Mat_= confusion_matrix(y_test,y_pred)"
   ]
  },
  {
   "cell_type": "code",
   "execution_count": 28,
   "metadata": {},
   "outputs": [
    {
     "data": {
      "text/plain": [
       "0.5699558173784978"
      ]
     },
     "execution_count": 28,
     "metadata": {},
     "output_type": "execute_result"
    }
   ],
   "source": [
    "DT_acc "
   ]
  },
  {
   "cell_type": "code",
   "execution_count": 31,
   "metadata": {},
   "outputs": [
    {
     "data": {
      "text/plain": [
       "0.016956567764282227"
      ]
     },
     "execution_count": 31,
     "metadata": {},
     "output_type": "execute_result"
    }
   ],
   "source": [
    "train_duration"
   ]
  },
  {
   "cell_type": "code",
   "execution_count": 46,
   "metadata": {},
   "outputs": [
    {
     "data": {
      "text/plain": [
       "array([[  7,  14,  10],\n",
       "       [ 14,  88, 124],\n",
       "       [ 16, 119, 287]], dtype=int64)"
      ]
     },
     "execution_count": 46,
     "metadata": {},
     "output_type": "execute_result"
    }
   ],
   "source": [
    "DT_Con_Mat_"
   ]
  },
  {
   "cell_type": "code",
   "execution_count": 47,
   "metadata": {},
   "outputs": [
    {
     "name": "stdout",
     "output_type": "stream",
     "text": [
      "Acc_1 = 0.22580645161290322, Acc_2 = 0.3893805309734513, Acc_3 = 0.6800947867298578\n"
     ]
    }
   ],
   "source": [
    "Analyse_Con_Mat(DT_Con_Mat_)"
   ]
  },
  {
   "cell_type": "markdown",
   "metadata": {},
   "source": [
    "# 2.3. Logistic Regression Model"
   ]
  },
  {
   "cell_type": "code",
   "execution_count": 48,
   "metadata": {},
   "outputs": [
    {
     "name": "stderr",
     "output_type": "stream",
     "text": [
      "C:\\Users\\Py\\lib\\site-packages\\sklearn\\linear_model\\logistic.py:469: FutureWarning: Default multi_class will be changed to 'auto' in 0.22. Specify the multi_class option to silence this warning.\n",
      "  \"this warning.\", FutureWarning)\n"
     ]
    }
   ],
   "source": [
    "logReg = LogisticRegression(solver = 'lbfgs')\n",
    "start_time = time.time()\n",
    "logReg.fit(X_train,y_train)\n",
    "train_duration = time.time() - start_time\n",
    "y_pred_LR = logReg.predict(X_test)\n",
    "LR_acc = accuracy_score(y_test, y_pred_LR)\n",
    "LR_Con_Mat_= confusion_matrix(y_test,y_pred_LR)"
   ]
  },
  {
   "cell_type": "code",
   "execution_count": 49,
   "metadata": {},
   "outputs": [
    {
     "data": {
      "text/plain": [
       "0.03988957405090332"
      ]
     },
     "execution_count": 49,
     "metadata": {},
     "output_type": "execute_result"
    }
   ],
   "source": [
    "train_duration"
   ]
  },
  {
   "cell_type": "code",
   "execution_count": 50,
   "metadata": {},
   "outputs": [
    {
     "data": {
      "text/plain": [
       "0.6215022091310751"
      ]
     },
     "execution_count": 50,
     "metadata": {},
     "output_type": "execute_result"
    }
   ],
   "source": [
    "LR_acc"
   ]
  },
  {
   "cell_type": "code",
   "execution_count": 51,
   "metadata": {},
   "outputs": [
    {
     "data": {
      "text/plain": [
       "array([[  0,   0,  31],\n",
       "       [  0,   0, 226],\n",
       "       [  0,   0, 422]], dtype=int64)"
      ]
     },
     "execution_count": 51,
     "metadata": {},
     "output_type": "execute_result"
    }
   ],
   "source": [
    "LR_Con_Mat_"
   ]
  },
  {
   "cell_type": "code",
   "execution_count": 52,
   "metadata": {},
   "outputs": [
    {
     "name": "stdout",
     "output_type": "stream",
     "text": [
      "Acc_1 = 0.0, Acc_2 = 0.0, Acc_3 = 1.0\n"
     ]
    }
   ],
   "source": [
    "Analyse_Con_Mat(LR_Con_Mat_)"
   ]
  },
  {
   "cell_type": "markdown",
   "metadata": {},
   "source": [
    "# Looking at the confusion matrix, most of the correct predictions came from the class '3' (rating = 4.5 or 5.0)."
   ]
  },
  {
   "cell_type": "markdown",
   "metadata": {},
   "source": [
    "# Looking at the dataset, it is imbalanced, with most of the sample belonging to class '3'. We will need to do data balancing to improve the model. We also want to explore if we can improve the result by standardise the datal.  "
   ]
  },
  {
   "cell_type": "code",
   "execution_count": 53,
   "metadata": {},
   "outputs": [
    {
     "data": {
      "text/plain": [
       "3.0    1728\n",
       "2.0     867\n",
       "1.0     119\n",
       "Name: Average User Rating, dtype: int64"
      ]
     },
     "execution_count": 53,
     "metadata": {},
     "output_type": "execute_result"
    }
   ],
   "source": [
    "df['Average User Rating'].value_counts()"
   ]
  },
  {
   "cell_type": "markdown",
   "metadata": {},
   "source": [
    "# 3. Data balancing and standardisation"
   ]
  },
  {
   "cell_type": "markdown",
   "metadata": {},
   "source": [
    "# 3.1. Data balancing by under-sampling and over-sampling"
   ]
  },
  {
   "cell_type": "code",
   "execution_count": 54,
   "metadata": {},
   "outputs": [],
   "source": [
    "# We picked 238 samples from class 3 and 2, then we use 2 sets of class 1 samples together to create a new unbiased dataset\n",
    "df_3 = df[df['Average User Rating'] == 3]\n",
    "df_3 = df_3.sample(n = 238,random_state = 42)\n",
    "df_2 = df[df['Average User Rating'] == 2]\n",
    "df_2 = df_2.sample(n = 238,random_state = 42)\n",
    "df_1 = df[df['Average User Rating'] == 1]\n",
    "df_1 = pd.concat([df_1]*2)"
   ]
  },
  {
   "cell_type": "code",
   "execution_count": 55,
   "metadata": {},
   "outputs": [],
   "source": [
    "df_unbiased = pd.concat([df_1,df_2,df_3])"
   ]
  },
  {
   "cell_type": "code",
   "execution_count": 56,
   "metadata": {},
   "outputs": [],
   "source": [
    "df_unbiased = df_unbiased.reset_index(drop = True)"
   ]
  },
  {
   "cell_type": "code",
   "execution_count": 57,
   "metadata": {},
   "outputs": [
    {
     "data": {
      "text/html": [
       "<div>\n",
       "<style scoped>\n",
       "    .dataframe tbody tr th:only-of-type {\n",
       "        vertical-align: middle;\n",
       "    }\n",
       "\n",
       "    .dataframe tbody tr th {\n",
       "        vertical-align: top;\n",
       "    }\n",
       "\n",
       "    .dataframe thead th {\n",
       "        text-align: right;\n",
       "    }\n",
       "</style>\n",
       "<table border=\"1\" class=\"dataframe\">\n",
       "  <thead>\n",
       "    <tr style=\"text-align: right;\">\n",
       "      <th></th>\n",
       "      <th>Average User Rating</th>\n",
       "      <th>User Rating Count</th>\n",
       "      <th>Price</th>\n",
       "      <th>In-app Purchases</th>\n",
       "      <th>Age Rating</th>\n",
       "      <th>Languages</th>\n",
       "      <th>Size</th>\n",
       "      <th>Num_of_days</th>\n",
       "    </tr>\n",
       "  </thead>\n",
       "  <tbody>\n",
       "    <tr>\n",
       "      <td>0</td>\n",
       "      <td>1.0</td>\n",
       "      <td>359.0</td>\n",
       "      <td>5.99</td>\n",
       "      <td>0</td>\n",
       "      <td>1</td>\n",
       "      <td>1</td>\n",
       "      <td>33982464.0</td>\n",
       "      <td>3819</td>\n",
       "    </tr>\n",
       "    <tr>\n",
       "      <td>1</td>\n",
       "      <td>1.0</td>\n",
       "      <td>5462.0</td>\n",
       "      <td>0.00</td>\n",
       "      <td>1</td>\n",
       "      <td>2</td>\n",
       "      <td>1</td>\n",
       "      <td>14125056.0</td>\n",
       "      <td>3811</td>\n",
       "    </tr>\n",
       "    <tr>\n",
       "      <td>2</td>\n",
       "      <td>1.0</td>\n",
       "      <td>18.0</td>\n",
       "      <td>0.00</td>\n",
       "      <td>0</td>\n",
       "      <td>1</td>\n",
       "      <td>1</td>\n",
       "      <td>75976704.0</td>\n",
       "      <td>3544</td>\n",
       "    </tr>\n",
       "    <tr>\n",
       "      <td>3</td>\n",
       "      <td>1.0</td>\n",
       "      <td>6630.0</td>\n",
       "      <td>0.00</td>\n",
       "      <td>0</td>\n",
       "      <td>1</td>\n",
       "      <td>1</td>\n",
       "      <td>8592384.0</td>\n",
       "      <td>3545</td>\n",
       "    </tr>\n",
       "    <tr>\n",
       "      <td>4</td>\n",
       "      <td>1.0</td>\n",
       "      <td>119.0</td>\n",
       "      <td>0.00</td>\n",
       "      <td>0</td>\n",
       "      <td>1</td>\n",
       "      <td>1</td>\n",
       "      <td>46803968.0</td>\n",
       "      <td>3503</td>\n",
       "    </tr>\n",
       "    <tr>\n",
       "      <td>...</td>\n",
       "      <td>...</td>\n",
       "      <td>...</td>\n",
       "      <td>...</td>\n",
       "      <td>...</td>\n",
       "      <td>...</td>\n",
       "      <td>...</td>\n",
       "      <td>...</td>\n",
       "      <td>...</td>\n",
       "    </tr>\n",
       "    <tr>\n",
       "      <td>709</td>\n",
       "      <td>3.0</td>\n",
       "      <td>1032.0</td>\n",
       "      <td>0.00</td>\n",
       "      <td>1</td>\n",
       "      <td>2</td>\n",
       "      <td>8</td>\n",
       "      <td>171896832.0</td>\n",
       "      <td>809</td>\n",
       "    </tr>\n",
       "    <tr>\n",
       "      <td>710</td>\n",
       "      <td>3.0</td>\n",
       "      <td>290.0</td>\n",
       "      <td>0.00</td>\n",
       "      <td>1</td>\n",
       "      <td>4</td>\n",
       "      <td>11</td>\n",
       "      <td>97308672.0</td>\n",
       "      <td>718</td>\n",
       "    </tr>\n",
       "    <tr>\n",
       "      <td>711</td>\n",
       "      <td>3.0</td>\n",
       "      <td>32356.0</td>\n",
       "      <td>0.00</td>\n",
       "      <td>0</td>\n",
       "      <td>1</td>\n",
       "      <td>3</td>\n",
       "      <td>44116992.0</td>\n",
       "      <td>2531</td>\n",
       "    </tr>\n",
       "    <tr>\n",
       "      <td>712</td>\n",
       "      <td>3.0</td>\n",
       "      <td>104.0</td>\n",
       "      <td>0.00</td>\n",
       "      <td>1</td>\n",
       "      <td>3</td>\n",
       "      <td>2</td>\n",
       "      <td>318044160.0</td>\n",
       "      <td>168</td>\n",
       "    </tr>\n",
       "    <tr>\n",
       "      <td>713</td>\n",
       "      <td>3.0</td>\n",
       "      <td>254.0</td>\n",
       "      <td>0.00</td>\n",
       "      <td>1</td>\n",
       "      <td>3</td>\n",
       "      <td>1</td>\n",
       "      <td>220795904.0</td>\n",
       "      <td>982</td>\n",
       "    </tr>\n",
       "  </tbody>\n",
       "</table>\n",
       "<p>714 rows × 8 columns</p>\n",
       "</div>"
      ],
      "text/plain": [
       "     Average User Rating  User Rating Count  Price  In-app Purchases  \\\n",
       "0                    1.0              359.0   5.99                 0   \n",
       "1                    1.0             5462.0   0.00                 1   \n",
       "2                    1.0               18.0   0.00                 0   \n",
       "3                    1.0             6630.0   0.00                 0   \n",
       "4                    1.0              119.0   0.00                 0   \n",
       "..                   ...                ...    ...               ...   \n",
       "709                  3.0             1032.0   0.00                 1   \n",
       "710                  3.0              290.0   0.00                 1   \n",
       "711                  3.0            32356.0   0.00                 0   \n",
       "712                  3.0              104.0   0.00                 1   \n",
       "713                  3.0              254.0   0.00                 1   \n",
       "\n",
       "     Age Rating  Languages         Size  Num_of_days  \n",
       "0             1          1   33982464.0         3819  \n",
       "1             2          1   14125056.0         3811  \n",
       "2             1          1   75976704.0         3544  \n",
       "3             1          1    8592384.0         3545  \n",
       "4             1          1   46803968.0         3503  \n",
       "..          ...        ...          ...          ...  \n",
       "709           2          8  171896832.0          809  \n",
       "710           4         11   97308672.0          718  \n",
       "711           1          3   44116992.0         2531  \n",
       "712           3          2  318044160.0          168  \n",
       "713           3          1  220795904.0          982  \n",
       "\n",
       "[714 rows x 8 columns]"
      ]
     },
     "execution_count": 57,
     "metadata": {},
     "output_type": "execute_result"
    }
   ],
   "source": [
    "df_unbiased"
   ]
  },
  {
   "cell_type": "markdown",
   "metadata": {},
   "source": [
    "# 3.2 Scale and normalised the data."
   ]
  },
  {
   "cell_type": "code",
   "execution_count": 58,
   "metadata": {},
   "outputs": [],
   "source": [
    "# Do normalisation and scaling\n",
    "scaler = StandardScaler()\n",
    "scaled = scaler.fit_transform(df_unbiased.values)\n",
    "scaled_normalized = normalize(scaled) \n",
    "df_processed = pd.DataFrame(scaled_normalized,index=df_unbiased.index,columns=df_unbiased.columns)"
   ]
  },
  {
   "cell_type": "code",
   "execution_count": 100,
   "metadata": {},
   "outputs": [
    {
     "data": {
      "text/html": [
       "<div>\n",
       "<style scoped>\n",
       "    .dataframe tbody tr th:only-of-type {\n",
       "        vertical-align: middle;\n",
       "    }\n",
       "\n",
       "    .dataframe tbody tr th {\n",
       "        vertical-align: top;\n",
       "    }\n",
       "\n",
       "    .dataframe thead th {\n",
       "        text-align: right;\n",
       "    }\n",
       "</style>\n",
       "<table border=\"1\" class=\"dataframe\">\n",
       "  <thead>\n",
       "    <tr style=\"text-align: right;\">\n",
       "      <th></th>\n",
       "      <th>Average User Rating</th>\n",
       "      <th>User Rating Count</th>\n",
       "      <th>Price</th>\n",
       "      <th>In-app Purchases</th>\n",
       "      <th>Age Rating</th>\n",
       "      <th>Languages</th>\n",
       "      <th>Size</th>\n",
       "      <th>Num_of_days</th>\n",
       "    </tr>\n",
       "  </thead>\n",
       "  <tbody>\n",
       "    <tr>\n",
       "      <td>0</td>\n",
       "      <td>-0.225045</td>\n",
       "      <td>-0.025241</td>\n",
       "      <td>0.753981</td>\n",
       "      <td>-0.245028</td>\n",
       "      <td>-0.138342</td>\n",
       "      <td>-0.087280</td>\n",
       "      <td>-0.104175</td>\n",
       "      <td>0.531585</td>\n",
       "    </tr>\n",
       "    <tr>\n",
       "      <td>1</td>\n",
       "      <td>-0.366013</td>\n",
       "      <td>0.033522</td>\n",
       "      <td>-0.082671</td>\n",
       "      <td>0.224109</td>\n",
       "      <td>0.090619</td>\n",
       "      <td>-0.141952</td>\n",
       "      <td>-0.190546</td>\n",
       "      <td>0.862080</td>\n",
       "    </tr>\n",
       "    <tr>\n",
       "      <td>2</td>\n",
       "      <td>-0.366952</td>\n",
       "      <td>-0.046154</td>\n",
       "      <td>-0.082883</td>\n",
       "      <td>-0.399535</td>\n",
       "      <td>-0.225577</td>\n",
       "      <td>-0.142316</td>\n",
       "      <td>-0.125093</td>\n",
       "      <td>0.780981</td>\n",
       "    </tr>\n",
       "    <tr>\n",
       "      <td>3</td>\n",
       "      <td>-0.362615</td>\n",
       "      <td>0.050121</td>\n",
       "      <td>-0.081903</td>\n",
       "      <td>-0.394813</td>\n",
       "      <td>-0.222911</td>\n",
       "      <td>-0.140634</td>\n",
       "      <td>-0.194606</td>\n",
       "      <td>0.772058</td>\n",
       "    </tr>\n",
       "    <tr>\n",
       "      <td>4</td>\n",
       "      <td>-0.369025</td>\n",
       "      <td>-0.044927</td>\n",
       "      <td>-0.083351</td>\n",
       "      <td>-0.401793</td>\n",
       "      <td>-0.226851</td>\n",
       "      <td>-0.143120</td>\n",
       "      <td>-0.157077</td>\n",
       "      <td>0.772528</td>\n",
       "    </tr>\n",
       "  </tbody>\n",
       "</table>\n",
       "</div>"
      ],
      "text/plain": [
       "   Average User Rating  User Rating Count     Price  In-app Purchases  \\\n",
       "0            -0.225045          -0.025241  0.753981         -0.245028   \n",
       "1            -0.366013           0.033522 -0.082671          0.224109   \n",
       "2            -0.366952          -0.046154 -0.082883         -0.399535   \n",
       "3            -0.362615           0.050121 -0.081903         -0.394813   \n",
       "4            -0.369025          -0.044927 -0.083351         -0.401793   \n",
       "\n",
       "   Age Rating  Languages      Size  Num_of_days  \n",
       "0   -0.138342  -0.087280 -0.104175     0.531585  \n",
       "1    0.090619  -0.141952 -0.190546     0.862080  \n",
       "2   -0.225577  -0.142316 -0.125093     0.780981  \n",
       "3   -0.222911  -0.140634 -0.194606     0.772058  \n",
       "4   -0.226851  -0.143120 -0.157077     0.772528  "
      ]
     },
     "execution_count": 100,
     "metadata": {},
     "output_type": "execute_result"
    }
   ],
   "source": [
    "df_processed.head()"
   ]
  },
  {
   "cell_type": "code",
   "execution_count": 59,
   "metadata": {},
   "outputs": [],
   "source": [
    "X = df_processed .drop(['Average User Rating'],axis =1)\n",
    "y = df_unbiased['Average User Rating']\n",
    "\n",
    "X_train, X_test, y_train, y_test = train_test_split(X, y, random_state = 42)"
   ]
  },
  {
   "cell_type": "code",
   "execution_count": 60,
   "metadata": {},
   "outputs": [
    {
     "data": {
      "text/plain": [
       "3.0    238\n",
       "2.0    238\n",
       "1.0    238\n",
       "Name: Average User Rating, dtype: int64"
      ]
     },
     "execution_count": 60,
     "metadata": {},
     "output_type": "execute_result"
    }
   ],
   "source": [
    "df_unbiased['Average User Rating'].value_counts()"
   ]
  },
  {
   "cell_type": "markdown",
   "metadata": {},
   "source": [
    "# 3.3 Train model with the unbiased dataset"
   ]
  },
  {
   "cell_type": "markdown",
   "metadata": {},
   "source": [
    "# 3.3.1 KNN model"
   ]
  },
  {
   "cell_type": "code",
   "execution_count": 61,
   "metadata": {},
   "outputs": [],
   "source": [
    "K_values = np.arange(start = 3, stop = 40, step = 2)\n",
    "i = 0\n",
    "# create 2 list to store accuracy\n",
    "acc = np.zeros(K_values.shape[0])\n",
    "cross_val_acc = np.zeros(K_values.shape[0])\n",
    "# create 2 lists to store the model training duration and prediction duration\n",
    "train_duration = np.zeros(K_values.shape[0])\n",
    "predict_duration = np.zeros(K_values.shape[0])\n",
    "# create a list to store all the confusion matrices\n",
    "a =np.matrix('0 0;0 0')\n",
    "Con_Mat_list = [a]*(K_values.shape[0])"
   ]
  },
  {
   "cell_type": "code",
   "execution_count": 62,
   "metadata": {},
   "outputs": [],
   "source": [
    "for n in K_values:\n",
    "    \n",
    "    start_time = time.time()\n",
    "    Kneigh = KNeighborsClassifier(n_neighbors = n).fit(X_train,y_train)\n",
    "    train_duration[i] = time.time() - start_time\n",
    "    start_time = time.time()\n",
    "    y_hat = Kneigh.predict(X_test)\n",
    "    predict_duration[i] = time.time() - start_time\n",
    "    acc[i] = accuracy_score(y_test, y_hat)\n",
    "    score=cross_val_score(Kneigh, X_train, y_train, cv=k_fold, n_jobs=1, scoring='accuracy',error_score=np.nan)\n",
    "    cross_val_acc[i]= round(np.mean(score)*100, 2)\n",
    "    Con_Mat_list[i] = confusion_matrix(y_test,y_hat)\n",
    "    i +=1\n",
    " "
   ]
  },
  {
   "cell_type": "code",
   "execution_count": 63,
   "metadata": {},
   "outputs": [
    {
     "data": {
      "text/plain": [
       "array([56.26, 55.71, 53.87, 54.04, 53.3 , 50.67, 50.12, 48.81, 48.42,\n",
       "       49.54, 48.98, 49.55, 49.91, 48.05, 47.88, 48.25, 48.99, 48.62,\n",
       "       47.87])"
      ]
     },
     "execution_count": 63,
     "metadata": {},
     "output_type": "execute_result"
    }
   ],
   "source": [
    "cross_val_acc"
   ]
  },
  {
   "cell_type": "code",
   "execution_count": 64,
   "metadata": {},
   "outputs": [
    {
     "data": {
      "text/plain": [
       "array([0.65921788, 0.60893855, 0.59776536, 0.56424581, 0.53072626,\n",
       "       0.4972067 , 0.50837989, 0.5027933 , 0.48044693, 0.45251397,\n",
       "       0.45251397, 0.44134078, 0.43575419, 0.39664804, 0.4301676 ,\n",
       "       0.4301676 , 0.41340782, 0.41899441, 0.42458101])"
      ]
     },
     "execution_count": 64,
     "metadata": {},
     "output_type": "execute_result"
    }
   ],
   "source": [
    "acc"
   ]
  },
  {
   "cell_type": "markdown",
   "metadata": {},
   "source": [
    "# After balancing and standardising the data, we see that the K value that give the best result = 3."
   ]
  },
  {
   "cell_type": "code",
   "execution_count": 65,
   "metadata": {},
   "outputs": [
    {
     "data": {
      "text/plain": [
       "0.659217877094972"
      ]
     },
     "execution_count": 65,
     "metadata": {},
     "output_type": "execute_result"
    }
   ],
   "source": [
    "acc[0]"
   ]
  },
  {
   "cell_type": "code",
   "execution_count": 66,
   "metadata": {},
   "outputs": [
    {
     "name": "stdout",
     "output_type": "stream",
     "text": [
      "Acc_1 = 0.7313432835820896, Acc_2 = 0.6721311475409836, Acc_3 = 0.5490196078431373\n"
     ]
    }
   ],
   "source": [
    "Analyse_Con_Mat(Con_Mat_list[0])"
   ]
  },
  {
   "cell_type": "code",
   "execution_count": 67,
   "metadata": {},
   "outputs": [
    {
     "data": {
      "text/plain": [
       "0.0029909610748291016"
      ]
     },
     "execution_count": 67,
     "metadata": {},
     "output_type": "execute_result"
    }
   ],
   "source": [
    "train_duration[0]"
   ]
  },
  {
   "cell_type": "markdown",
   "metadata": {},
   "source": [
    "# 3.3.2 Decision tree model"
   ]
  },
  {
   "cell_type": "code",
   "execution_count": 68,
   "metadata": {},
   "outputs": [],
   "source": [
    "clf = tree.DecisionTreeClassifier()\n",
    "start_time = time.time()\n",
    "clf.fit(X_train,y_train)\n",
    "train_duration = time.time() - start_time\n",
    "y_pred = clf.predict(X_test)\n",
    "\n",
    "DT_acc = accuracy_score(y_test, y_pred)\n",
    "DT_Con_Mat_= confusion_matrix(y_test,y_pred)"
   ]
  },
  {
   "cell_type": "code",
   "execution_count": 69,
   "metadata": {},
   "outputs": [
    {
     "data": {
      "text/plain": [
       "0.006972312927246094"
      ]
     },
     "execution_count": 69,
     "metadata": {},
     "output_type": "execute_result"
    }
   ],
   "source": [
    "train_duration"
   ]
  },
  {
   "cell_type": "code",
   "execution_count": 70,
   "metadata": {},
   "outputs": [
    {
     "data": {
      "text/plain": [
       "0.776536312849162"
      ]
     },
     "execution_count": 70,
     "metadata": {},
     "output_type": "execute_result"
    }
   ],
   "source": [
    "DT_acc "
   ]
  },
  {
   "cell_type": "code",
   "execution_count": 71,
   "metadata": {},
   "outputs": [
    {
     "data": {
      "text/plain": [
       "array([[61,  0,  6],\n",
       "       [ 4, 44, 13],\n",
       "       [11,  6, 34]], dtype=int64)"
      ]
     },
     "execution_count": 71,
     "metadata": {},
     "output_type": "execute_result"
    }
   ],
   "source": [
    "DT_Con_Mat_"
   ]
  },
  {
   "cell_type": "code",
   "execution_count": 72,
   "metadata": {},
   "outputs": [
    {
     "name": "stdout",
     "output_type": "stream",
     "text": [
      "Acc_1 = 0.9104477611940298, Acc_2 = 0.7213114754098361, Acc_3 = 0.6666666666666666\n"
     ]
    }
   ],
   "source": [
    "Analyse_Con_Mat(DT_Con_Mat_)"
   ]
  },
  {
   "cell_type": "markdown",
   "metadata": {},
   "source": [
    "# 3.3.3 Logistic Regression Model"
   ]
  },
  {
   "cell_type": "code",
   "execution_count": 73,
   "metadata": {},
   "outputs": [
    {
     "name": "stderr",
     "output_type": "stream",
     "text": [
      "C:\\Users\\Py\\lib\\site-packages\\sklearn\\linear_model\\logistic.py:469: FutureWarning: Default multi_class will be changed to 'auto' in 0.22. Specify the multi_class option to silence this warning.\n",
      "  \"this warning.\", FutureWarning)\n"
     ]
    }
   ],
   "source": [
    "logReg = LogisticRegression(solver = 'lbfgs')\n",
    "start_time = time.time()\n",
    "logReg.fit(X_train,y_train)\n",
    "train_duration = time.time() - start_time\n",
    "y_pred_LR = logReg.predict(X_test)\n",
    "LR_acc = accuracy_score(y_test, y_pred_LR)\n",
    "LR_Con_Mat_= confusion_matrix(y_test,y_pred_LR)"
   ]
  },
  {
   "cell_type": "code",
   "execution_count": 74,
   "metadata": {},
   "outputs": [
    {
     "data": {
      "text/plain": [
       "0.01945805549621582"
      ]
     },
     "execution_count": 74,
     "metadata": {},
     "output_type": "execute_result"
    }
   ],
   "source": [
    "train_duration"
   ]
  },
  {
   "cell_type": "code",
   "execution_count": 75,
   "metadata": {},
   "outputs": [
    {
     "data": {
      "text/plain": [
       "0.39106145251396646"
      ]
     },
     "execution_count": 75,
     "metadata": {},
     "output_type": "execute_result"
    }
   ],
   "source": [
    "LR_acc"
   ]
  },
  {
   "cell_type": "code",
   "execution_count": 76,
   "metadata": {},
   "outputs": [
    {
     "data": {
      "text/plain": [
       "array([[31,  7, 29],\n",
       "       [24,  8, 29],\n",
       "       [ 9, 11, 31]], dtype=int64)"
      ]
     },
     "execution_count": 76,
     "metadata": {},
     "output_type": "execute_result"
    }
   ],
   "source": [
    "LR_Con_Mat_"
   ]
  },
  {
   "cell_type": "code",
   "execution_count": 77,
   "metadata": {},
   "outputs": [
    {
     "name": "stdout",
     "output_type": "stream",
     "text": [
      "Acc_1 = 0.4626865671641791, Acc_2 = 0.13114754098360656, Acc_3 = 0.6078431372549019\n"
     ]
    }
   ],
   "source": [
    "Analyse_Con_Mat(LR_Con_Mat_)"
   ]
  },
  {
   "cell_type": "markdown",
   "metadata": {},
   "source": [
    "# We can see that with data balancing and standardisation, the accuracy improved and it is not longer skewed towards class '3. Next we will see if we can improved the result with PCA."
   ]
  },
  {
   "cell_type": "markdown",
   "metadata": {},
   "source": [
    "# 4. Feature Extraction : PCA"
   ]
  },
  {
   "cell_type": "markdown",
   "metadata": {},
   "source": [
    "# 4.1. Generate new dataset with Principal Components"
   ]
  },
  {
   "cell_type": "code",
   "execution_count": 78,
   "metadata": {},
   "outputs": [
    {
     "data": {
      "text/html": [
       "<div>\n",
       "<style scoped>\n",
       "    .dataframe tbody tr th:only-of-type {\n",
       "        vertical-align: middle;\n",
       "    }\n",
       "\n",
       "    .dataframe tbody tr th {\n",
       "        vertical-align: top;\n",
       "    }\n",
       "\n",
       "    .dataframe thead th {\n",
       "        text-align: right;\n",
       "    }\n",
       "</style>\n",
       "<table border=\"1\" class=\"dataframe\">\n",
       "  <thead>\n",
       "    <tr style=\"text-align: right;\">\n",
       "      <th></th>\n",
       "      <th>Average User Rating</th>\n",
       "    </tr>\n",
       "  </thead>\n",
       "  <tbody>\n",
       "    <tr>\n",
       "      <td>0</td>\n",
       "      <td>1.0</td>\n",
       "    </tr>\n",
       "    <tr>\n",
       "      <td>1</td>\n",
       "      <td>1.0</td>\n",
       "    </tr>\n",
       "    <tr>\n",
       "      <td>2</td>\n",
       "      <td>1.0</td>\n",
       "    </tr>\n",
       "    <tr>\n",
       "      <td>3</td>\n",
       "      <td>1.0</td>\n",
       "    </tr>\n",
       "    <tr>\n",
       "      <td>4</td>\n",
       "      <td>1.0</td>\n",
       "    </tr>\n",
       "  </tbody>\n",
       "</table>\n",
       "</div>"
      ],
      "text/plain": [
       "   Average User Rating\n",
       "0                  1.0\n",
       "1                  1.0\n",
       "2                  1.0\n",
       "3                  1.0\n",
       "4                  1.0"
      ]
     },
     "execution_count": 78,
     "metadata": {},
     "output_type": "execute_result"
    }
   ],
   "source": [
    "Target = df_unbiased[['Average User Rating']].reset_index(drop = True)\n",
    "Target.head()"
   ]
  },
  {
   "cell_type": "code",
   "execution_count": 79,
   "metadata": {},
   "outputs": [
    {
     "data": {
      "text/html": [
       "<div>\n",
       "<style scoped>\n",
       "    .dataframe tbody tr th:only-of-type {\n",
       "        vertical-align: middle;\n",
       "    }\n",
       "\n",
       "    .dataframe tbody tr th {\n",
       "        vertical-align: top;\n",
       "    }\n",
       "\n",
       "    .dataframe thead th {\n",
       "        text-align: right;\n",
       "    }\n",
       "</style>\n",
       "<table border=\"1\" class=\"dataframe\">\n",
       "  <thead>\n",
       "    <tr style=\"text-align: right;\">\n",
       "      <th></th>\n",
       "      <th>PC1</th>\n",
       "      <th>PC2</th>\n",
       "      <th>PC3</th>\n",
       "      <th>PC4</th>\n",
       "    </tr>\n",
       "  </thead>\n",
       "  <tbody>\n",
       "    <tr>\n",
       "      <td>0</td>\n",
       "      <td>0.492394</td>\n",
       "      <td>-0.260149</td>\n",
       "      <td>-0.307698</td>\n",
       "      <td>0.533484</td>\n",
       "    </tr>\n",
       "    <tr>\n",
       "      <td>1</td>\n",
       "      <td>0.167545</td>\n",
       "      <td>-0.216276</td>\n",
       "      <td>0.024549</td>\n",
       "      <td>0.879895</td>\n",
       "    </tr>\n",
       "    <tr>\n",
       "      <td>2</td>\n",
       "      <td>0.679032</td>\n",
       "      <td>-0.359230</td>\n",
       "      <td>-0.197064</td>\n",
       "      <td>0.578956</td>\n",
       "    </tr>\n",
       "    <tr>\n",
       "      <td>3</td>\n",
       "      <td>0.678630</td>\n",
       "      <td>-0.373055</td>\n",
       "      <td>-0.203129</td>\n",
       "      <td>0.576186</td>\n",
       "    </tr>\n",
       "    <tr>\n",
       "      <td>4</td>\n",
       "      <td>0.686396</td>\n",
       "      <td>-0.363367</td>\n",
       "      <td>-0.194677</td>\n",
       "      <td>0.571384</td>\n",
       "    </tr>\n",
       "  </tbody>\n",
       "</table>\n",
       "</div>"
      ],
      "text/plain": [
       "        PC1       PC2       PC3       PC4\n",
       "0  0.492394 -0.260149 -0.307698  0.533484\n",
       "1  0.167545 -0.216276  0.024549  0.879895\n",
       "2  0.679032 -0.359230 -0.197064  0.578956\n",
       "3  0.678630 -0.373055 -0.203129  0.576186\n",
       "4  0.686396 -0.363367 -0.194677  0.571384"
      ]
     },
     "execution_count": 79,
     "metadata": {},
     "output_type": "execute_result"
    }
   ],
   "source": [
    "# Data has been scaled and normalised before\n",
    "from sklearn.decomposition import PCA\n",
    "pca = PCA(n_components=4)\n",
    "principalComponents = pca.fit_transform(scaled_normalized)\n",
    "principalDf = pd.DataFrame(data = principalComponents\n",
    "             , columns = ['PC1', 'PC2','PC3','PC4'])\n",
    "principalDf.head()"
   ]
  },
  {
   "cell_type": "code",
   "execution_count": 80,
   "metadata": {},
   "outputs": [
    {
     "data": {
      "text/html": [
       "<div>\n",
       "<style scoped>\n",
       "    .dataframe tbody tr th:only-of-type {\n",
       "        vertical-align: middle;\n",
       "    }\n",
       "\n",
       "    .dataframe tbody tr th {\n",
       "        vertical-align: top;\n",
       "    }\n",
       "\n",
       "    .dataframe thead th {\n",
       "        text-align: right;\n",
       "    }\n",
       "</style>\n",
       "<table border=\"1\" class=\"dataframe\">\n",
       "  <thead>\n",
       "    <tr style=\"text-align: right;\">\n",
       "      <th></th>\n",
       "      <th>PC1</th>\n",
       "      <th>PC2</th>\n",
       "      <th>PC3</th>\n",
       "      <th>PC4</th>\n",
       "      <th>Average User Rating</th>\n",
       "    </tr>\n",
       "  </thead>\n",
       "  <tbody>\n",
       "    <tr>\n",
       "      <td>0</td>\n",
       "      <td>0.492394</td>\n",
       "      <td>-0.260149</td>\n",
       "      <td>-0.307698</td>\n",
       "      <td>0.533484</td>\n",
       "      <td>1.0</td>\n",
       "    </tr>\n",
       "    <tr>\n",
       "      <td>1</td>\n",
       "      <td>0.167545</td>\n",
       "      <td>-0.216276</td>\n",
       "      <td>0.024549</td>\n",
       "      <td>0.879895</td>\n",
       "      <td>1.0</td>\n",
       "    </tr>\n",
       "    <tr>\n",
       "      <td>2</td>\n",
       "      <td>0.679032</td>\n",
       "      <td>-0.359230</td>\n",
       "      <td>-0.197064</td>\n",
       "      <td>0.578956</td>\n",
       "      <td>1.0</td>\n",
       "    </tr>\n",
       "    <tr>\n",
       "      <td>3</td>\n",
       "      <td>0.678630</td>\n",
       "      <td>-0.373055</td>\n",
       "      <td>-0.203129</td>\n",
       "      <td>0.576186</td>\n",
       "      <td>1.0</td>\n",
       "    </tr>\n",
       "    <tr>\n",
       "      <td>4</td>\n",
       "      <td>0.686396</td>\n",
       "      <td>-0.363367</td>\n",
       "      <td>-0.194677</td>\n",
       "      <td>0.571384</td>\n",
       "      <td>1.0</td>\n",
       "    </tr>\n",
       "  </tbody>\n",
       "</table>\n",
       "</div>"
      ],
      "text/plain": [
       "        PC1       PC2       PC3       PC4  Average User Rating\n",
       "0  0.492394 -0.260149 -0.307698  0.533484                  1.0\n",
       "1  0.167545 -0.216276  0.024549  0.879895                  1.0\n",
       "2  0.679032 -0.359230 -0.197064  0.578956                  1.0\n",
       "3  0.678630 -0.373055 -0.203129  0.576186                  1.0\n",
       "4  0.686396 -0.363367 -0.194677  0.571384                  1.0"
      ]
     },
     "execution_count": 80,
     "metadata": {},
     "output_type": "execute_result"
    }
   ],
   "source": [
    "finalDf = pd.concat([principalDf, Target], axis = 1)\n",
    "finalDf.head(5)"
   ]
  },
  {
   "cell_type": "code",
   "execution_count": 81,
   "metadata": {},
   "outputs": [
    {
     "data": {
      "image/png": "[encoded data removed]",
      "text/plain": [
       "<Figure size 1152x576 with 1 Axes>"
      ]
     },
     "metadata": {
      "needs_background": "light"
     },
     "output_type": "display_data"
    }
   ],
   "source": [
    "fig = plt.figure(figsize = (16,8))\n",
    "ax1 = fig.add_subplot(1,2,1) \n",
    "ax1.set_xlabel('Principal Component 1', fontsize = 15)\n",
    "ax1.set_ylabel('Principal Component 2', fontsize = 15)\n",
    "ax1.set_title('2 Component PCA', fontsize = 20)\n",
    "\n",
    "\n",
    "targets = [1, 2, 3]\n",
    "colors = 'rgb'\n",
    "for target, color in zip(targets,colors):\n",
    "    indicesToKeep = finalDf['Average User Rating'] == target\n",
    "    ax1.scatter(finalDf.loc[indicesToKeep, 'PC1']\n",
    "               , finalDf.loc[indicesToKeep, 'PC2']\n",
    "               , c = color\n",
    "               , s = 50)\n",
    "ax1.legend(targets)\n",
    "ax1.grid()"
   ]
  },
  {
   "cell_type": "code",
   "execution_count": 82,
   "metadata": {},
   "outputs": [
    {
     "name": "stdout",
     "output_type": "stream",
     "text": [
      "[0.27302036 0.19036013 0.16512342 0.15592664]\n",
      "0.7844305507487785\n"
     ]
    }
   ],
   "source": [
    "print(pca.explained_variance_ratio_)\n",
    "\n",
    "print(pca.explained_variance_ratio_.sum())"
   ]
  },
  {
   "cell_type": "markdown",
   "metadata": {},
   "source": [
    "# 4.2. Train model with final dataset "
   ]
  },
  {
   "cell_type": "code",
   "execution_count": 83,
   "metadata": {},
   "outputs": [],
   "source": [
    "X = finalDf.drop(['Average User Rating'],axis =1)\n",
    "y = finalDf['Average User Rating']\n",
    "\n",
    "X_train, X_test, y_train, y_test = train_test_split(X, y, random_state = 42)"
   ]
  },
  {
   "cell_type": "markdown",
   "metadata": {},
   "source": [
    "# 4.2.1. KNN Model"
   ]
  },
  {
   "cell_type": "code",
   "execution_count": 84,
   "metadata": {},
   "outputs": [],
   "source": [
    "K_values = np.arange(start = 3, stop = 40, step = 2)\n",
    "i = 0\n",
    "# create 2 list to store accuracy\n",
    "acc = np.zeros(K_values.shape[0])\n",
    "cross_val_acc = np.zeros(K_values.shape[0])\n",
    "# create 2 lists to store the model training duration and prediction duration\n",
    "train_duration = np.zeros(K_values.shape[0])\n",
    "predict_duration = np.zeros(K_values.shape[0])\n",
    "# create a list to store all the confusion matrices\n",
    "a =np.matrix('0 0;0 0')\n",
    "Con_Mat_list = [a]*(K_values.shape[0])"
   ]
  },
  {
   "cell_type": "code",
   "execution_count": 85,
   "metadata": {},
   "outputs": [],
   "source": [
    "for n in K_values:\n",
    "    \n",
    "    start_time = time.time()\n",
    "    Kneigh = KNeighborsClassifier(n_neighbors = n).fit(X_train,y_train)\n",
    "    train_duration[i] = time.time() - start_time\n",
    "    start_time = time.time()\n",
    "    y_hat = Kneigh.predict(X_test)\n",
    "    predict_duration[i] = time.time() - start_time\n",
    "    acc[i] = accuracy_score(y_test, y_hat)\n",
    "    score=cross_val_score(Kneigh, X_train, y_train, cv=k_fold, n_jobs=1, scoring='accuracy',error_score=np.nan)\n",
    "    cross_val_acc[i]= round(np.mean(score)*100, 2)\n",
    "    Con_Mat_list[i] = confusion_matrix(y_test,y_hat)\n",
    "    i +=1\n",
    " "
   ]
  },
  {
   "cell_type": "code",
   "execution_count": 86,
   "metadata": {},
   "outputs": [
    {
     "data": {
      "text/plain": [
       "array([98.88, 98.31, 97.38, 97.38, 96.82, 97.19, 97.56, 96.63, 94.76,\n",
       "       93.83, 92.7 , 91.01, 90.84, 90.65, 91.03, 92.15, 91.21, 91.21,\n",
       "       90.28])"
      ]
     },
     "execution_count": 86,
     "metadata": {},
     "output_type": "execute_result"
    }
   ],
   "source": [
    "cross_val_acc"
   ]
  },
  {
   "cell_type": "code",
   "execution_count": 87,
   "metadata": {},
   "outputs": [
    {
     "data": {
      "text/plain": [
       "array([0.99441341, 0.98882682, 0.98882682, 0.98324022, 0.97765363,\n",
       "       0.98324022, 0.97765363, 0.97765363, 0.98324022, 0.97765363,\n",
       "       0.97765363, 0.97206704, 0.97206704, 0.96648045, 0.96089385,\n",
       "       0.94972067, 0.94972067, 0.95530726, 0.96089385])"
      ]
     },
     "execution_count": 87,
     "metadata": {},
     "output_type": "execute_result"
    }
   ],
   "source": [
    "acc"
   ]
  },
  {
   "cell_type": "markdown",
   "metadata": {},
   "source": [
    "# After doing PCA, the K values for highest accuracy remains at 3"
   ]
  },
  {
   "cell_type": "code",
   "execution_count": 88,
   "metadata": {},
   "outputs": [
    {
     "name": "stdout",
     "output_type": "stream",
     "text": [
      "Acc_1 = 1.0, Acc_2 = 0.9836065573770492, Acc_3 = 1.0\n"
     ]
    }
   ],
   "source": [
    "Analyse_Con_Mat(Con_Mat_list[0])"
   ]
  },
  {
   "cell_type": "code",
   "execution_count": 89,
   "metadata": {},
   "outputs": [
    {
     "data": {
      "text/plain": [
       "0.0009989738464355469"
      ]
     },
     "execution_count": 89,
     "metadata": {},
     "output_type": "execute_result"
    }
   ],
   "source": [
    "train_duration[0]"
   ]
  },
  {
   "cell_type": "markdown",
   "metadata": {},
   "source": [
    "# 4.2.2 Decision Tree Model"
   ]
  },
  {
   "cell_type": "code",
   "execution_count": 90,
   "metadata": {},
   "outputs": [],
   "source": [
    "clf = tree.DecisionTreeClassifier()\n",
    "start_time = time.time()\n",
    "clf.fit(X_train,y_train)\n",
    "train_duration = time.time() - start_time\n",
    "y_pred = clf.predict(X_test)\n",
    "\n",
    "DT_acc = accuracy_score(y_test, y_pred)\n",
    "DT_Con_Mat_= confusion_matrix(y_test,y_pred)"
   ]
  },
  {
   "cell_type": "code",
   "execution_count": 91,
   "metadata": {},
   "outputs": [
    {
     "data": {
      "text/plain": [
       "0.9888268156424581"
      ]
     },
     "execution_count": 91,
     "metadata": {},
     "output_type": "execute_result"
    }
   ],
   "source": [
    "DT_acc"
   ]
  },
  {
   "cell_type": "code",
   "execution_count": 92,
   "metadata": {},
   "outputs": [
    {
     "data": {
      "text/plain": [
       "0.003989219665527344"
      ]
     },
     "execution_count": 92,
     "metadata": {},
     "output_type": "execute_result"
    }
   ],
   "source": [
    "train_duration"
   ]
  },
  {
   "cell_type": "code",
   "execution_count": 93,
   "metadata": {},
   "outputs": [
    {
     "data": {
      "text/plain": [
       "array([[67,  0,  0],\n",
       "       [ 0, 59,  2],\n",
       "       [ 0,  0, 51]], dtype=int64)"
      ]
     },
     "execution_count": 93,
     "metadata": {},
     "output_type": "execute_result"
    }
   ],
   "source": [
    "DT_Con_Mat_"
   ]
  },
  {
   "cell_type": "code",
   "execution_count": 94,
   "metadata": {},
   "outputs": [
    {
     "name": "stdout",
     "output_type": "stream",
     "text": [
      "Acc_1 = 1.0, Acc_2 = 0.9672131147540983, Acc_3 = 1.0\n"
     ]
    }
   ],
   "source": [
    "Analyse_Con_Mat(DT_Con_Mat_)"
   ]
  },
  {
   "cell_type": "markdown",
   "metadata": {},
   "source": [
    "# 4.2.3 Logistic Regression Model"
   ]
  },
  {
   "cell_type": "code",
   "execution_count": 95,
   "metadata": {},
   "outputs": [
    {
     "name": "stderr",
     "output_type": "stream",
     "text": [
      "C:\\Users\\Py\\lib\\site-packages\\sklearn\\linear_model\\logistic.py:469: FutureWarning: Default multi_class will be changed to 'auto' in 0.22. Specify the multi_class option to silence this warning.\n",
      "  \"this warning.\", FutureWarning)\n"
     ]
    }
   ],
   "source": [
    "logReg = LogisticRegression(solver = 'lbfgs')\n",
    "start_time = time.time()\n",
    "logReg.fit(X_train,y_train)\n",
    "train_duration = time.time() - start_time\n",
    "y_pred_LR = logReg.predict(X_test)\n",
    "LR_acc = accuracy_score(y_test, y_pred_LR)\n",
    "LR_Con_Mat_= confusion_matrix(y_test,y_pred_LR)"
   ]
  },
  {
   "cell_type": "code",
   "execution_count": 96,
   "metadata": {},
   "outputs": [
    {
     "data": {
      "text/plain": [
       "1.0"
      ]
     },
     "execution_count": 96,
     "metadata": {},
     "output_type": "execute_result"
    }
   ],
   "source": [
    "LR_acc "
   ]
  },
  {
   "cell_type": "code",
   "execution_count": 97,
   "metadata": {},
   "outputs": [
    {
     "data": {
      "text/plain": [
       "0.019278287887573242"
      ]
     },
     "execution_count": 97,
     "metadata": {},
     "output_type": "execute_result"
    }
   ],
   "source": [
    "train_duration"
   ]
  },
  {
   "cell_type": "code",
   "execution_count": 98,
   "metadata": {},
   "outputs": [
    {
     "data": {
      "text/plain": [
       "array([[67,  0,  0],\n",
       "       [ 0, 61,  0],\n",
       "       [ 0,  0, 51]], dtype=int64)"
      ]
     },
     "execution_count": 98,
     "metadata": {},
     "output_type": "execute_result"
    }
   ],
   "source": [
    "LR_Con_Mat_"
   ]
  },
  {
   "cell_type": "code",
   "execution_count": 99,
   "metadata": {},
   "outputs": [
    {
     "name": "stdout",
     "output_type": "stream",
     "text": [
      "Acc_1 = 1.0, Acc_2 = 1.0, Acc_3 = 1.0\n"
     ]
    }
   ],
   "source": [
    "Analyse_Con_Mat(LR_Con_Mat_)"
   ]
  },
  {
   "cell_type": "markdown",
   "metadata": {},
   "source": [
    "# We can see that the result improve greatly, highest accuracy achieved increase from around 70 percent previously to close to 100 perccent for all 3 classification model."
   ]
  },
  {
   "cell_type": "code",
   "execution_count": null,
   "metadata": {},
   "outputs": [],
   "source": []
  }
 ],
 "metadata": {
  "kernelspec": {
   "display_name": "Python 3",
   "language": "python",
   "name": "python3"
  },
  "language_info": {
   "codemirror_mode": {
    "name": "ipython",
    "version": 3
   },
   "file_extension": ".py",
   "mimetype": "text/x-python",
   "name": "python",
   "nbconvert_exporter": "python",
   "pygments_lexer": "ipython3",
   "version": "3.7.4"
  }
 },
 "nbformat": 4,
 "nbformat_minor": 2
}
